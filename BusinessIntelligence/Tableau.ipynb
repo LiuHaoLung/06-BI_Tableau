{
 "cells": [
  {
   "cell_type": "markdown",
   "metadata": {},
   "source": [
    "# Tableau"
   ]
  },
  {
   "cell_type": "markdown",
   "metadata": {},
   "source": [
    "Tableau has grown to become one of the most popular business intelligence tools in the entire world, it is a BI software that allows non-technical users to visualize their data and work with it almost immediately, lowering know how barriers dramatically.\n",
    "\n",
    "In the past, business analysts needed the help of IT personnel who could assist them in gathering raw data and preprocessing it, only then could business analysts start working on the visualization of such data.\n",
    "\n",
    "The advance of Tableau democratize this process and allowed BI analysts to be independent, non-technical people can easily load data into the program and start playing with it.\n",
    "\n",
    "Tableau are meaningful, intuitive, visualizations and sometimes that's really valuable.\n",
    "\n",
    "Analysts are able to explore their data right away without spending too much time on numbers which provide limited insights and instead focus on data that matters.\n",
    "\n",
    "This is why can confidently say that Tableau is an indispensable tool in the arsenal of most corporate.\n",
    "___\n",
    "\n",
    "Using Tableau doesn't necessarily mean you can forget about excel and vice versa.\n",
    "\n",
    "While excel is not powerful or intuitive as Tableau when it comes to data visualization, Tableau is not optimal when you would like to use it as a data creation tool.\n",
    "\n",
    "Although it has several database management functionalities, the program isn't the best solution when you would like to perform multiple operations with the data before you start analyzing it.\n",
    "\n",
    "Moreover Tableau isn't great for multi-layered calculations, it is able to calculate in its own fields, but it shouldn't be used as a spreadsheet tool for multi-layered such as the preparation of budget in excel where Tableau surpasses the competition is in data visualizations.\n",
    "\n",
    "It is a very smart program that allows you to vusualize data in a more powerful way compare to excel.\n",
    "\n",
    "Tableau allows you to combine several types of charts and build up meaningful dashboards that are truely interactive and facilitate additional analysis.\n",
    "\n",
    "Once you visualize the data you can easily dig deeper and explore its granularity, finding the reason for unusual spikes or investigating certain trends.\n",
    "\n",
    "Even novice Tableau users would be able to save a significant amount of time if they transfer their pre-desinged existing excel dashboards to Tableau, uploading new data and updating visuals is  more rapid in Tableau."
   ]
  },
  {
   "cell_type": "code",
   "execution_count": null,
   "metadata": {},
   "outputs": [],
   "source": []
  }
 ],
 "metadata": {
  "kernelspec": {
   "display_name": "Python 3",
   "language": "python",
   "name": "python3"
  },
  "language_info": {
   "codemirror_mode": {
    "name": "ipython",
    "version": 3
   },
   "file_extension": ".py",
   "mimetype": "text/x-python",
   "name": "python",
   "nbconvert_exporter": "python",
   "pygments_lexer": "ipython3",
   "version": "3.7.4"
  }
 },
 "nbformat": 4,
 "nbformat_minor": 2
}
